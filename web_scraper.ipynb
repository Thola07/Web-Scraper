{
 "cells": [
  {
   "cell_type": "code",
   "execution_count": 23,
   "metadata": {},
   "outputs": [],
   "source": [
    "# import libraries\n",
    "import requests\n",
    "from bs4 import BeautifulSoup \n",
    "import pandas as pd\n"
   ]
  },
  {
   "cell_type": "markdown",
   "metadata": {},
   "source": [
    " Extracting the html from web page."
   ]
  },
  {
   "cell_type": "code",
   "execution_count": 24,
   "metadata": {},
   "outputs": [],
   "source": [
    " url = \"https://www.booking.com/city/za/durban.html?aid=303948;label=za-durban-Ol*W5YRkbW_Pd_tSpAl7hAS392903646883:pl:ta:p1280:p2:ac:ap:neg:fi:tiaud-297601666275:kwd-249931770:lp1028673:li:dec:dm:ppccp=UmFuZG9tSVYkc2RlIyh9Yf5EcukO1MOGLSSAuId8ToA;ws=&gclid=CjwKCAjwiOv7BRBREiwAXHbv3FCcc0EHGXOGBCoyDq3B2EwRPKjnjpUCVnX8QIyHrmY0JbiOehWBcxoCUtMQAvD_BwE\"\n",
    "    "
   ]
  },
  {
   "cell_type": "code",
   "execution_count": 25,
   "metadata": {},
   "outputs": [],
   "source": [
    "# read the html page using the request packages\n",
    "page = requests.get(url)"
   ]
  },
  {
   "cell_type": "markdown",
   "metadata": {},
   "source": [
    "Apply BeautifulSoup to parse the page."
   ]
  },
  {
   "cell_type": "code",
   "execution_count": 26,
   "metadata": {},
   "outputs": [],
   "source": [
    "# BeautifulSoup package extract data from html files\n",
    "soup = BeautifulSoup(page.content,'html.parser')"
   ]
  },
  {
   "cell_type": "code",
   "execution_count": 27,
   "metadata": {},
   "outputs": [
    {
     "name": "stdout",
     "output_type": "stream",
     "text": [
      "<title>10 Best Durban Hotels, South Africa (From $26)</title>\n"
     ]
    }
   ],
   "source": [
    "print(soup.title)"
   ]
  },
  {
   "cell_type": "code",
   "execution_count": 28,
   "metadata": {},
   "outputs": [
    {
     "data": {
      "text/plain": [
       "['\\n\\nBlue Waters Hotel\\n\\n\\n\\n\\n\\n\\n\\n\\n\\n\\n',\n",
       " '\\n\\naha Gateway Hotel Umhlanga\\n\\n\\n\\n\\n\\n\\n\\n\\n\\n\\n',\n",
       " '\\n\\nBelaire Suites Hotel\\n\\n\\n\\n\\n\\n\\n\\n\\n\\n\\n',\n",
       " '\\n\\nAlbany Hotel\\n\\n\\n\\n\\n\\n\\n',\n",
       " '\\n\\nCoastlands Umhlanga Hotel and Convention Centre\\n\\n\\n\\n\\n\\n\\n\\n\\n\\n\\n',\n",
       " '\\n\\nThe Capital Pearls Hotel\\n\\n\\n\\n\\n\\n\\n\\n',\n",
       " '\\n\\nParade Hotel\\n\\n\\n\\n\\n\\n\\n\\n\\n\\n\\n',\n",
       " '\\n\\nRegal Inn Umhlanga Gateway\\n\\n\\n\\n',\n",
       " '\\n\\nHotel Cube\\n\\n\\n\\n\\n\\n\\n\\n',\n",
       " '\\n\\nThe Royal Hotel by Coastlands Hotels & Resorts\\n\\n\\n\\n\\n\\n\\n\\n\\n\\n\\n']"
      ]
     },
     "execution_count": 28,
     "metadata": {},
     "output_type": "execute_result"
    }
   ],
   "source": [
    "hotel_name = [] # create an empty list to store hotel names\n",
    "hotel_name_1 = soup.find_all('h3',class_='bui-spacer--smaller') # extract hotel names\n",
    "\n",
    "for item in hotel_name_1:\n",
    "    hotel_name.append(item.text) # append hotel names\n",
    "hotel_name   "
   ]
  },
  {
   "cell_type": "code",
   "execution_count": 29,
   "metadata": {},
   "outputs": [
    {
     "data": {
      "text/plain": [
       "['\\n8.2\\n',\n",
       " '\\n8.4\\n',\n",
       " '\\n8.6\\n',\n",
       " '\\n6.5\\n',\n",
       " '\\n8.4\\n',\n",
       " '\\n8.8\\n',\n",
       " '\\n8\\n',\n",
       " '\\n8\\n',\n",
       " '\\n7.1\\n',\n",
       " '\\n7.9\\n']"
      ]
     },
     "execution_count": 29,
     "metadata": {},
     "output_type": "execute_result"
    }
   ],
   "source": [
    "hotel_review_score = [] # create an empty list to store hotel review score\n",
    "hotel_review_score_1 =  soup.find_all(\"div\", {\"class\":\"bui-review-score__badge\"}) # extract hotel review score\n",
    "\n",
    "for item in hotel_review_score_1:\n",
    "    hotel_review_score.append(item.text) # append hotel review score\n",
    "hotel_review_score   "
   ]
  },
  {
   "cell_type": "code",
   "execution_count": 30,
   "metadata": {},
   "outputs": [
    {
     "data": {
      "text/plain": [
       "['\\n8,832 reviews\\n',\n",
       " '\\n2,567 reviews\\n',\n",
       " '\\n3,479 reviews\\n',\n",
       " '\\n3,176 reviews\\n',\n",
       " '\\n3,061 reviews\\n',\n",
       " '\\n2,718 reviews\\n',\n",
       " '\\n2,076 reviews\\n',\n",
       " '\\n2,477 reviews\\n',\n",
       " '\\n1,856 reviews\\n',\n",
       " '\\n3,226 reviews\\n']"
      ]
     },
     "execution_count": 30,
     "metadata": {},
     "output_type": "execute_result"
    }
   ],
   "source": [
    "hotel_reviews = [] # create an empty list to store hotel reviews\n",
    "hotel_reviews_1 = soup.find_all(\"div\", {\"class\":\"bui-review-score__text\"}) # extract hotel reviews\n",
    "\n",
    "for item in hotel_reviews_1:\n",
    "    hotel_reviews.append(item.text) # append hotel reviews\n",
    "hotel_reviews \n"
   ]
  },
  {
   "cell_type": "code",
   "execution_count": 31,
   "metadata": {},
   "outputs": [
    {
     "data": {
      "text/plain": [
       "['\\nOpposite Durban’s famous beachfront, Blue Waters Hotel is within walking distance of the Suncoast Casino and the iconic Moses Mabhida Stadium. \\nBlue waters hotel never disappoints.\\n',\n",
       " \"\\nA rooftop pool is behind aha Gateway Hotel - Umhlanga's characteristic green ‘screen’ surrounding the front the building. This eco-friendly hotel is attached to the Gateway Theater of Shopping. \\nLovely hotel with the best staff who went the extra mile to make our honeymoon stay that extra special. From reception to dining to the bar to concierge, all staff were super awesome...\\n\",\n",
       " '\\nLocated right on Durbans North Beach, Belaire Suites Hotel offers rooms with free WiFi. Durban Station is 0.6 mi away, and the on-site Café Jiran serves award winning coffee. \\nLoved our stay. We got an amazing suite with a grand view of the ocean. The buffet breakfast was a treat. We had an extremely memorable stay.\\n',\n",
       " '\\nLocated in the heart of Durban, Albany Hotel is located a 9-minute walk from ICC Durban and a 15-minute walk from Marine Parade. \\nEverything abt our stay was nice\\n',\n",
       " '\\nJust a 15-minute drive from King Shaka International Airport in La Mercy, this 4-star hotel offers rooms with free Wi-Fi and a flat-screen TV. Facilities include an outdoor pool and sun deck. \\nService is excellent. Rooms are spacious clean and tidy\\n',\n",
       " \"\\nSet on Umhlanga's main beach, The Capital Pearls Hotel has a fitness center, bar, on-site dining, and free WiFi. \\nI loved everything from the Receptionist who were so welcoming, the rooms were super clean and very beautiful, the sea and the pool view wow.. And the breakfast was well prepared and presented.\\n\",\n",
       " '\\nOffering beautiful views of the Indian Ocean, Parade Hotel provides affordable accommodations. \\nThe room was excellent, bed very comfortable, the breakfast fast was exceptional 👌. Really happy\\n',\n",
       " '\\nRegal Inn Umhlanga Gateway is set in the Umhlanga district in Durban, 1312 feet from Gateway Theater of Shopping. Free Wifi is available in the public areas. \\nI love the room the location and the  place was so great\\n',\n",
       " '\\nWith free WiFi throughout, Hotel Cube is located in Durban, a 15-minute walk from Umgeni Train Station. Breakfast is served daily. \\nCleanliness, friendly staff and the amazing location.\\n',\n",
       " \"\\nLocated in Durban's CBD and 15 minutes’ walk from the beach, Royal Hotel features 2 restaurants serving award-winning cuisine. Rooms have panoramic views of the city or the yacht harbor. \\nIt's   clean privacy place royal its only place I enjoy to sty\\n\"]"
      ]
     },
     "execution_count": 31,
     "metadata": {},
     "output_type": "execute_result"
    }
   ],
   "source": [
    "hotel_description = []  # create an empty list to store hotel description\n",
    "hotel_description_1 = soup.find_all('p',class_='bui-card__text hotel-card__text--wrapped bui-spacer--small') # extract hotel description\n",
    "\n",
    "for item in hotel_description_1:\n",
    "    hotel_description.append(item.text) # append hotel description\n",
    "hotel_description\n"
   ]
  },
  {
   "cell_type": "code",
   "execution_count": 32,
   "metadata": {},
   "outputs": [
    {
     "data": {
      "text/plain": [
       "10"
      ]
     },
     "execution_count": 32,
     "metadata": {},
     "output_type": "execute_result"
    }
   ],
   "source": [
    "len(hotel_name)"
   ]
  },
  {
   "cell_type": "code",
   "execution_count": 33,
   "metadata": {},
   "outputs": [
    {
     "data": {
      "text/plain": [
       "10"
      ]
     },
     "execution_count": 33,
     "metadata": {},
     "output_type": "execute_result"
    }
   ],
   "source": [
    "len(hotel_description)"
   ]
  },
  {
   "cell_type": "code",
   "execution_count": 34,
   "metadata": {},
   "outputs": [
    {
     "data": {
      "text/plain": [
       "10"
      ]
     },
     "execution_count": 34,
     "metadata": {},
     "output_type": "execute_result"
    }
   ],
   "source": [
    "len(hotel_reviews )"
   ]
  },
  {
   "cell_type": "code",
   "execution_count": 35,
   "metadata": {},
   "outputs": [
    {
     "data": {
      "text/plain": [
       "10"
      ]
     },
     "execution_count": 35,
     "metadata": {},
     "output_type": "execute_result"
    }
   ],
   "source": [
    "len(hotel_review_score )"
   ]
  },
  {
   "cell_type": "code",
   "execution_count": 36,
   "metadata": {},
   "outputs": [
    {
     "data": {
      "text/plain": [
       "['\\n8.2\\n',\n",
       " '\\n8.4\\n',\n",
       " '\\n8.6\\n',\n",
       " '\\n6.5\\n',\n",
       " '\\n8.4\\n',\n",
       " '\\n8.8\\n',\n",
       " '\\n8\\n',\n",
       " '\\n8\\n',\n",
       " '\\n7.1\\n',\n",
       " '\\n7.9\\n']"
      ]
     },
     "execution_count": 36,
     "metadata": {},
     "output_type": "execute_result"
    }
   ],
   "source": [
    "hotel_name \n",
    "hotel_description  \n",
    "hotel_reviews \n",
    "hotel_review_score "
   ]
  },
  {
   "cell_type": "code",
   "execution_count": null,
   "metadata": {},
   "outputs": [],
   "source": []
  },
  {
   "cell_type": "code",
   "execution_count": 37,
   "metadata": {},
   "outputs": [],
   "source": [
    "df = pd.DataFrame() # create pandas  dataframe"
   ]
  },
  {
   "cell_type": "code",
   "execution_count": 38,
   "metadata": {},
   "outputs": [
    {
     "data": {
      "text/html": [
       "<div>\n",
       "<style scoped>\n",
       "    .dataframe tbody tr th:only-of-type {\n",
       "        vertical-align: middle;\n",
       "    }\n",
       "\n",
       "    .dataframe tbody tr th {\n",
       "        vertical-align: top;\n",
       "    }\n",
       "\n",
       "    .dataframe thead th {\n",
       "        text-align: right;\n",
       "    }\n",
       "</style>\n",
       "<table border=\"1\" class=\"dataframe\">\n",
       "  <thead>\n",
       "    <tr style=\"text-align: right;\">\n",
       "      <th></th>\n",
       "    </tr>\n",
       "  </thead>\n",
       "  <tbody>\n",
       "  </tbody>\n",
       "</table>\n",
       "</div>"
      ],
      "text/plain": [
       "Empty DataFrame\n",
       "Columns: []\n",
       "Index: []"
      ]
     },
     "execution_count": 38,
     "metadata": {},
     "output_type": "execute_result"
    }
   ],
   "source": [
    "df"
   ]
  },
  {
   "cell_type": "code",
   "execution_count": 39,
   "metadata": {},
   "outputs": [],
   "source": [
    "df['hotel name']=hotel_name\n",
    "df['hotel description']=hotel_description\n",
    "df['hotel reviews']=hotel_reviews\n",
    "df['hotel_review_score']=hotel_review_score "
   ]
  },
  {
   "cell_type": "code",
   "execution_count": 40,
   "metadata": {},
   "outputs": [
    {
     "data": {
      "text/html": [
       "<div>\n",
       "<style scoped>\n",
       "    .dataframe tbody tr th:only-of-type {\n",
       "        vertical-align: middle;\n",
       "    }\n",
       "\n",
       "    .dataframe tbody tr th {\n",
       "        vertical-align: top;\n",
       "    }\n",
       "\n",
       "    .dataframe thead th {\n",
       "        text-align: right;\n",
       "    }\n",
       "</style>\n",
       "<table border=\"1\" class=\"dataframe\">\n",
       "  <thead>\n",
       "    <tr style=\"text-align: right;\">\n",
       "      <th></th>\n",
       "      <th>hotel name</th>\n",
       "      <th>hotel description</th>\n",
       "      <th>hotel reviews</th>\n",
       "      <th>hotel_review_score</th>\n",
       "    </tr>\n",
       "  </thead>\n",
       "  <tbody>\n",
       "    <tr>\n",
       "      <th>0</th>\n",
       "      <td>\\n\\nBlue Waters Hotel\\n\\n\\n\\n\\n\\n\\n\\n\\n\\n\\n</td>\n",
       "      <td>\\nOpposite Durban’s famous beachfront, Blue Wa...</td>\n",
       "      <td>\\n8,832 reviews\\n</td>\n",
       "      <td>\\n8.2\\n</td>\n",
       "    </tr>\n",
       "    <tr>\n",
       "      <th>1</th>\n",
       "      <td>\\n\\naha Gateway Hotel Umhlanga\\n\\n\\n\\n\\n\\n\\n\\n...</td>\n",
       "      <td>\\nA rooftop pool is behind aha Gateway Hotel -...</td>\n",
       "      <td>\\n2,567 reviews\\n</td>\n",
       "      <td>\\n8.4\\n</td>\n",
       "    </tr>\n",
       "    <tr>\n",
       "      <th>2</th>\n",
       "      <td>\\n\\nBelaire Suites Hotel\\n\\n\\n\\n\\n\\n\\n\\n\\n\\n\\n</td>\n",
       "      <td>\\nLocated right on Durbans North Beach, Belair...</td>\n",
       "      <td>\\n3,479 reviews\\n</td>\n",
       "      <td>\\n8.6\\n</td>\n",
       "    </tr>\n",
       "    <tr>\n",
       "      <th>3</th>\n",
       "      <td>\\n\\nAlbany Hotel\\n\\n\\n\\n\\n\\n\\n</td>\n",
       "      <td>\\nLocated in the heart of Durban, Albany Hotel...</td>\n",
       "      <td>\\n3,176 reviews\\n</td>\n",
       "      <td>\\n6.5\\n</td>\n",
       "    </tr>\n",
       "    <tr>\n",
       "      <th>4</th>\n",
       "      <td>\\n\\nCoastlands Umhlanga Hotel and Convention C...</td>\n",
       "      <td>\\nJust a 15-minute drive from King Shaka Inter...</td>\n",
       "      <td>\\n3,061 reviews\\n</td>\n",
       "      <td>\\n8.4\\n</td>\n",
       "    </tr>\n",
       "    <tr>\n",
       "      <th>5</th>\n",
       "      <td>\\n\\nThe Capital Pearls Hotel\\n\\n\\n\\n\\n\\n\\n\\n</td>\n",
       "      <td>\\nSet on Umhlanga's main beach, The Capital Pe...</td>\n",
       "      <td>\\n2,718 reviews\\n</td>\n",
       "      <td>\\n8.8\\n</td>\n",
       "    </tr>\n",
       "    <tr>\n",
       "      <th>6</th>\n",
       "      <td>\\n\\nParade Hotel\\n\\n\\n\\n\\n\\n\\n\\n\\n\\n\\n</td>\n",
       "      <td>\\nOffering beautiful views of the Indian Ocean...</td>\n",
       "      <td>\\n2,076 reviews\\n</td>\n",
       "      <td>\\n8\\n</td>\n",
       "    </tr>\n",
       "    <tr>\n",
       "      <th>7</th>\n",
       "      <td>\\n\\nRegal Inn Umhlanga Gateway\\n\\n\\n\\n</td>\n",
       "      <td>\\nRegal Inn Umhlanga Gateway is set in the Umh...</td>\n",
       "      <td>\\n2,477 reviews\\n</td>\n",
       "      <td>\\n8\\n</td>\n",
       "    </tr>\n",
       "    <tr>\n",
       "      <th>8</th>\n",
       "      <td>\\n\\nHotel Cube\\n\\n\\n\\n\\n\\n\\n\\n</td>\n",
       "      <td>\\nWith free WiFi throughout, Hotel Cube is loc...</td>\n",
       "      <td>\\n1,856 reviews\\n</td>\n",
       "      <td>\\n7.1\\n</td>\n",
       "    </tr>\n",
       "    <tr>\n",
       "      <th>9</th>\n",
       "      <td>\\n\\nThe Royal Hotel by Coastlands Hotels &amp; Res...</td>\n",
       "      <td>\\nLocated in Durban's CBD and 15 minutes’ walk...</td>\n",
       "      <td>\\n3,226 reviews\\n</td>\n",
       "      <td>\\n7.9\\n</td>\n",
       "    </tr>\n",
       "  </tbody>\n",
       "</table>\n",
       "</div>"
      ],
      "text/plain": [
       "                                          hotel name  \\\n",
       "0        \\n\\nBlue Waters Hotel\\n\\n\\n\\n\\n\\n\\n\\n\\n\\n\\n   \n",
       "1  \\n\\naha Gateway Hotel Umhlanga\\n\\n\\n\\n\\n\\n\\n\\n...   \n",
       "2     \\n\\nBelaire Suites Hotel\\n\\n\\n\\n\\n\\n\\n\\n\\n\\n\\n   \n",
       "3                     \\n\\nAlbany Hotel\\n\\n\\n\\n\\n\\n\\n   \n",
       "4  \\n\\nCoastlands Umhlanga Hotel and Convention C...   \n",
       "5       \\n\\nThe Capital Pearls Hotel\\n\\n\\n\\n\\n\\n\\n\\n   \n",
       "6             \\n\\nParade Hotel\\n\\n\\n\\n\\n\\n\\n\\n\\n\\n\\n   \n",
       "7             \\n\\nRegal Inn Umhlanga Gateway\\n\\n\\n\\n   \n",
       "8                     \\n\\nHotel Cube\\n\\n\\n\\n\\n\\n\\n\\n   \n",
       "9  \\n\\nThe Royal Hotel by Coastlands Hotels & Res...   \n",
       "\n",
       "                                   hotel description      hotel reviews  \\\n",
       "0  \\nOpposite Durban’s famous beachfront, Blue Wa...  \\n8,832 reviews\\n   \n",
       "1  \\nA rooftop pool is behind aha Gateway Hotel -...  \\n2,567 reviews\\n   \n",
       "2  \\nLocated right on Durbans North Beach, Belair...  \\n3,479 reviews\\n   \n",
       "3  \\nLocated in the heart of Durban, Albany Hotel...  \\n3,176 reviews\\n   \n",
       "4  \\nJust a 15-minute drive from King Shaka Inter...  \\n3,061 reviews\\n   \n",
       "5  \\nSet on Umhlanga's main beach, The Capital Pe...  \\n2,718 reviews\\n   \n",
       "6  \\nOffering beautiful views of the Indian Ocean...  \\n2,076 reviews\\n   \n",
       "7  \\nRegal Inn Umhlanga Gateway is set in the Umh...  \\n2,477 reviews\\n   \n",
       "8  \\nWith free WiFi throughout, Hotel Cube is loc...  \\n1,856 reviews\\n   \n",
       "9  \\nLocated in Durban's CBD and 15 minutes’ walk...  \\n3,226 reviews\\n   \n",
       "\n",
       "  hotel_review_score  \n",
       "0            \\n8.2\\n  \n",
       "1            \\n8.4\\n  \n",
       "2            \\n8.6\\n  \n",
       "3            \\n6.5\\n  \n",
       "4            \\n8.4\\n  \n",
       "5            \\n8.8\\n  \n",
       "6              \\n8\\n  \n",
       "7              \\n8\\n  \n",
       "8            \\n7.1\\n  \n",
       "9            \\n7.9\\n  "
      ]
     },
     "execution_count": 40,
     "metadata": {},
     "output_type": "execute_result"
    }
   ],
   "source": [
    "df"
   ]
  },
  {
   "cell_type": "code",
   "execution_count": 41,
   "metadata": {},
   "outputs": [],
   "source": [
    "df = df.replace('\\n','', regex=True)"
   ]
  },
  {
   "cell_type": "code",
   "execution_count": 42,
   "metadata": {},
   "outputs": [
    {
     "data": {
      "text/html": [
       "<div>\n",
       "<style scoped>\n",
       "    .dataframe tbody tr th:only-of-type {\n",
       "        vertical-align: middle;\n",
       "    }\n",
       "\n",
       "    .dataframe tbody tr th {\n",
       "        vertical-align: top;\n",
       "    }\n",
       "\n",
       "    .dataframe thead th {\n",
       "        text-align: right;\n",
       "    }\n",
       "</style>\n",
       "<table border=\"1\" class=\"dataframe\">\n",
       "  <thead>\n",
       "    <tr style=\"text-align: right;\">\n",
       "      <th></th>\n",
       "      <th>hotel name</th>\n",
       "      <th>hotel description</th>\n",
       "      <th>hotel reviews</th>\n",
       "      <th>hotel_review_score</th>\n",
       "    </tr>\n",
       "  </thead>\n",
       "  <tbody>\n",
       "    <tr>\n",
       "      <th>0</th>\n",
       "      <td>Blue Waters Hotel</td>\n",
       "      <td>Opposite Durban’s famous beachfront, Blue Wate...</td>\n",
       "      <td>8,832 reviews</td>\n",
       "      <td>8.2</td>\n",
       "    </tr>\n",
       "    <tr>\n",
       "      <th>1</th>\n",
       "      <td>aha Gateway Hotel Umhlanga</td>\n",
       "      <td>A rooftop pool is behind aha Gateway Hotel - U...</td>\n",
       "      <td>2,567 reviews</td>\n",
       "      <td>8.4</td>\n",
       "    </tr>\n",
       "    <tr>\n",
       "      <th>2</th>\n",
       "      <td>Belaire Suites Hotel</td>\n",
       "      <td>Located right on Durbans North Beach, Belaire ...</td>\n",
       "      <td>3,479 reviews</td>\n",
       "      <td>8.6</td>\n",
       "    </tr>\n",
       "    <tr>\n",
       "      <th>3</th>\n",
       "      <td>Albany Hotel</td>\n",
       "      <td>Located in the heart of Durban, Albany Hotel i...</td>\n",
       "      <td>3,176 reviews</td>\n",
       "      <td>6.5</td>\n",
       "    </tr>\n",
       "    <tr>\n",
       "      <th>4</th>\n",
       "      <td>Coastlands Umhlanga Hotel and Convention Centre</td>\n",
       "      <td>Just a 15-minute drive from King Shaka Interna...</td>\n",
       "      <td>3,061 reviews</td>\n",
       "      <td>8.4</td>\n",
       "    </tr>\n",
       "    <tr>\n",
       "      <th>5</th>\n",
       "      <td>The Capital Pearls Hotel</td>\n",
       "      <td>Set on Umhlanga's main beach, The Capital Pear...</td>\n",
       "      <td>2,718 reviews</td>\n",
       "      <td>8.8</td>\n",
       "    </tr>\n",
       "    <tr>\n",
       "      <th>6</th>\n",
       "      <td>Parade Hotel</td>\n",
       "      <td>Offering beautiful views of the Indian Ocean, ...</td>\n",
       "      <td>2,076 reviews</td>\n",
       "      <td>8</td>\n",
       "    </tr>\n",
       "    <tr>\n",
       "      <th>7</th>\n",
       "      <td>Regal Inn Umhlanga Gateway</td>\n",
       "      <td>Regal Inn Umhlanga Gateway is set in the Umhla...</td>\n",
       "      <td>2,477 reviews</td>\n",
       "      <td>8</td>\n",
       "    </tr>\n",
       "    <tr>\n",
       "      <th>8</th>\n",
       "      <td>Hotel Cube</td>\n",
       "      <td>With free WiFi throughout, Hotel Cube is locat...</td>\n",
       "      <td>1,856 reviews</td>\n",
       "      <td>7.1</td>\n",
       "    </tr>\n",
       "    <tr>\n",
       "      <th>9</th>\n",
       "      <td>The Royal Hotel by Coastlands Hotels &amp; Resorts</td>\n",
       "      <td>Located in Durban's CBD and 15 minutes’ walk f...</td>\n",
       "      <td>3,226 reviews</td>\n",
       "      <td>7.9</td>\n",
       "    </tr>\n",
       "  </tbody>\n",
       "</table>\n",
       "</div>"
      ],
      "text/plain": [
       "                                        hotel name  \\\n",
       "0                                Blue Waters Hotel   \n",
       "1                       aha Gateway Hotel Umhlanga   \n",
       "2                             Belaire Suites Hotel   \n",
       "3                                     Albany Hotel   \n",
       "4  Coastlands Umhlanga Hotel and Convention Centre   \n",
       "5                         The Capital Pearls Hotel   \n",
       "6                                     Parade Hotel   \n",
       "7                       Regal Inn Umhlanga Gateway   \n",
       "8                                       Hotel Cube   \n",
       "9   The Royal Hotel by Coastlands Hotels & Resorts   \n",
       "\n",
       "                                   hotel description  hotel reviews  \\\n",
       "0  Opposite Durban’s famous beachfront, Blue Wate...  8,832 reviews   \n",
       "1  A rooftop pool is behind aha Gateway Hotel - U...  2,567 reviews   \n",
       "2  Located right on Durbans North Beach, Belaire ...  3,479 reviews   \n",
       "3  Located in the heart of Durban, Albany Hotel i...  3,176 reviews   \n",
       "4  Just a 15-minute drive from King Shaka Interna...  3,061 reviews   \n",
       "5  Set on Umhlanga's main beach, The Capital Pear...  2,718 reviews   \n",
       "6  Offering beautiful views of the Indian Ocean, ...  2,076 reviews   \n",
       "7  Regal Inn Umhlanga Gateway is set in the Umhla...  2,477 reviews   \n",
       "8  With free WiFi throughout, Hotel Cube is locat...  1,856 reviews   \n",
       "9  Located in Durban's CBD and 15 minutes’ walk f...  3,226 reviews   \n",
       "\n",
       "  hotel_review_score  \n",
       "0                8.2  \n",
       "1                8.4  \n",
       "2                8.6  \n",
       "3                6.5  \n",
       "4                8.4  \n",
       "5                8.8  \n",
       "6                  8  \n",
       "7                  8  \n",
       "8                7.1  \n",
       "9                7.9  "
      ]
     },
     "execution_count": 42,
     "metadata": {},
     "output_type": "execute_result"
    }
   ],
   "source": [
    "df"
   ]
  },
  {
   "cell_type": "code",
   "execution_count": 43,
   "metadata": {},
   "outputs": [],
   "source": [
    "df.to_csv('Durban_Hotels.csv',index=False)"
   ]
  },
  {
   "cell_type": "code",
   "execution_count": null,
   "metadata": {},
   "outputs": [],
   "source": []
  },
  {
   "cell_type": "code",
   "execution_count": null,
   "metadata": {},
   "outputs": [],
   "source": []
  }
 ],
 "metadata": {
  "kernelspec": {
   "display_name": "Python 3",
   "language": "python",
   "name": "python3"
  },
  "language_info": {
   "codemirror_mode": {
    "name": "ipython",
    "version": 3
   },
   "file_extension": ".py",
   "mimetype": "text/x-python",
   "name": "python",
   "nbconvert_exporter": "python",
   "pygments_lexer": "ipython3",
   "version": "3.7.3"
  }
 },
 "nbformat": 4,
 "nbformat_minor": 2
}
